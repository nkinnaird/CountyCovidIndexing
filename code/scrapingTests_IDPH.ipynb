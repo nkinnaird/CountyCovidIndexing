{
 "cells": [
  {
   "cell_type": "code",
   "execution_count": 1,
   "metadata": {},
   "outputs": [],
   "source": [
    "from bs4 import BeautifulSoup\n",
    "import requests"
   ]
  },
  {
   "cell_type": "code",
   "execution_count": 13,
   "metadata": {},
   "outputs": [
    {
     "name": "stdout",
     "output_type": "stream",
     "text": [
      "200\n"
     ]
    }
   ],
   "source": [
    "# url for IDPH covid data\n",
    "url_covid = 'https://www.dph.illinois.gov/countymetrics?county=Adams'\n",
    "\n",
    "covid_response = requests.get(url_covid)\n",
    "print(covid_response.status_code)\n",
    "covid_page = covid_response.text\n",
    "# print(covid_page)"
   ]
  },
  {
   "cell_type": "code",
   "execution_count": 14,
   "metadata": {},
   "outputs": [
    {
     "name": "stdout",
     "output_type": "stream",
     "text": [
      "<table class=\"padded-table\" id=\"detailedData\"><thead><tr><th>County</th>\n",
      "<th>New Cases per 100,000</th>\n",
      "<th>Test Positivity %</th>\n",
      "<th>(%) CLI ED Visits, Adults</th>\n",
      "<th>Number of CLI Admissions</th>\n",
      "<th>Number of Deaths</th>\n",
      "<th>ICU (%) Available</th>\n",
      "</tr></thead><tbody></tbody></table>\n"
     ]
    }
   ],
   "source": [
    "covid_soup = BeautifulSoup(covid_page, \"lxml\")\n",
    "# print(covid_soup)\n",
    "covid_table = covid_soup.find(id='detailedData')\n",
    "print(covid_table)"
   ]
  },
  {
   "cell_type": "code",
   "execution_count": null,
   "metadata": {},
   "outputs": [],
   "source": []
  }
 ],
 "metadata": {
  "kernelspec": {
   "display_name": "Python 3",
   "language": "python",
   "name": "python3"
  },
  "language_info": {
   "codemirror_mode": {
    "name": "ipython",
    "version": 3
   },
   "file_extension": ".py",
   "mimetype": "text/x-python",
   "name": "python",
   "nbconvert_exporter": "python",
   "pygments_lexer": "ipython3",
   "version": "3.8.5"
  }
 },
 "nbformat": 4,
 "nbformat_minor": 4
}
