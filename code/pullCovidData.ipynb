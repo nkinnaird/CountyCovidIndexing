{
 "cells": [
  {
   "cell_type": "code",
   "execution_count": 24,
   "metadata": {},
   "outputs": [],
   "source": [
    "from bs4 import BeautifulSoup\n",
    "import requests\n",
    "import time, os\n",
    "\n",
    "import pandas as pd\n",
    "\n",
    "from selenium import webdriver\n",
    "from selenium.webdriver.common.keys import Keys\n",
    "from selenium.webdriver.support.ui import Select\n",
    "\n",
    "chromedriver = \"/Applications/chromedriver\" # path to the chromedriver executable\n",
    "os.environ[\"webdriver.chrome.driver\"] = chromedriver\n"
   ]
  },
  {
   "cell_type": "code",
   "execution_count": 18,
   "metadata": {},
   "outputs": [],
   "source": [
    "county_census_info = pd.read_pickle(\"../Data/county_census_info.pkl\")"
   ]
  },
  {
   "cell_type": "code",
   "execution_count": 22,
   "metadata": {},
   "outputs": [
    {
     "name": "stdout",
     "output_type": "stream",
     "text": [
      "('Autauga County', 'Alabama')\n"
     ]
    }
   ],
   "source": [
    "indices = county_census_info.index\n",
    "print(indices[0])"
   ]
  },
  {
   "cell_type": "code",
   "execution_count": 29,
   "metadata": {},
   "outputs": [],
   "source": [
    "cdc_county_website = \"https://covid.cdc.gov/covid-data-tracker/#county-view\"\n",
    "\n",
    "driver = webdriver.Chrome(chromedriver)\n",
    "driver.get(cdc_county_website)\n",
    "\n",
    "time.sleep(5)\n",
    "\n",
    "select = Select(driver.find_element_by_id('list_select_state'))\n",
    "select.select_by_visible_text('Texas')\n",
    "\n",
    "select = Select(driver.find_element_by_id('list_select_county'))\n",
    "select.select_by_visible_text('Travis')\n",
    "\n",
    "time.sleep(10)\n",
    "\n",
    "# driver.find_element_by_xpath(\"//select[id='list_select_state']/option[text()='Texas']\").click()\n",
    "\n",
    "\n",
    "# driver.close()"
   ]
  },
  {
   "cell_type": "code",
   "execution_count": 30,
   "metadata": {},
   "outputs": [],
   "source": [
    "driver.close()"
   ]
  },
  {
   "cell_type": "code",
   "execution_count": null,
   "metadata": {},
   "outputs": [],
   "source": []
  }
 ],
 "metadata": {
  "kernelspec": {
   "display_name": "Python 3",
   "language": "python",
   "name": "python3"
  },
  "language_info": {
   "codemirror_mode": {
    "name": "ipython",
    "version": 3
   },
   "file_extension": ".py",
   "mimetype": "text/x-python",
   "name": "python",
   "nbconvert_exporter": "python",
   "pygments_lexer": "ipython3",
   "version": "3.8.5"
  }
 },
 "nbformat": 4,
 "nbformat_minor": 4
}
