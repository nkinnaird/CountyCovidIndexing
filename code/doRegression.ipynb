{
 "cells": [
  {
   "cell_type": "code",
   "execution_count": 1,
   "metadata": {},
   "outputs": [],
   "source": [
    "import math\n",
    "import pandas as pd\n",
    "import seaborn as sns\n",
    "import matplotlib.pyplot as plt\n",
    "import numpy as np\n",
    "\n",
    "%matplotlib inline\n",
    "\n",
    "from sklearn.model_selection import train_test_split, KFold\n",
    "from sklearn.linear_model import LinearRegression, Lasso, LassoCV, Ridge, RidgeCV, PoissonRegressor\n",
    "from sklearn.metrics import r2_score\n",
    "from sklearn.pipeline import Pipeline\n",
    "import sklearn.preprocessing as preprocessing \n",
    "\n",
    "import regressionUtils as rg\n"
   ]
  },
  {
   "cell_type": "code",
   "execution_count": 2,
   "metadata": {},
   "outputs": [
    {
     "name": "stdout",
     "output_type": "stream",
     "text": [
      "<class 'pandas.core.frame.DataFrame'>\n",
      "Float64Index: 3087 entries, 1001.0 to 56045.0\n",
      "Data columns (total 65 columns):\n",
      " #   Column                                                                                  Non-Null Count  Dtype  \n",
      "---  ------                                                                                  --------------  -----  \n",
      " 0   Population estimates, July 1, 2019,  (V2019)                                            3087 non-null   float64\n",
      " 1   Population estimates base, April 1, 2010,  (V2019)                                      3087 non-null   float64\n",
      " 2   Population, percent change - April 1, 2010 (estimates base) to July 1, 2019,  (V2019)   3087 non-null   float64\n",
      " 3   Population, Census, April 1, 2010                                                       3087 non-null   float64\n",
      " 4   Persons under 5 years, percent                                                          3086 non-null   float64\n",
      " 5   Persons under 18 years, percent                                                         3086 non-null   float64\n",
      " 6   Persons 65 years and over, percent                                                      3087 non-null   float64\n",
      " 7   Female persons, percent                                                                 3087 non-null   float64\n",
      " 8   White alone, percent                                                                    3087 non-null   float64\n",
      " 9   Black or African American alone, percent(a)                                             3079 non-null   float64\n",
      " 10  American Indian and Alaska Native alone, percent(a)                                     3085 non-null   float64\n",
      " 11  Asian alone, percent(a)                                                                 3080 non-null   float64\n",
      " 12  Native Hawaiian and Other Pacific Islander alone, percent(a)                            1849 non-null   float64\n",
      " 13  Two or More Races, percent                                                              3085 non-null   float64\n",
      " 14  Hispanic or Latino, percent(b)                                                          3087 non-null   float64\n",
      " 15  White alone, not Hispanic or Latino, percent                                            3087 non-null   float64\n",
      " 16  Veterans, 2015-2019                                                                     3086 non-null   float64\n",
      " 17  Foreign born persons, percent, 2015-2019                                                3087 non-null   float64\n",
      " 18  Housing units,  July 1, 2019,  (V2019)                                                  3087 non-null   float64\n",
      " 19  Owner-occupied housing unit rate, 2015-2019                                             3086 non-null   float64\n",
      " 20  Median value of owner-occupied housing units, 2015-2019                                 3085 non-null   float64\n",
      " 21  Median selected monthly owner costs -with a mortgage, 2015-2019                         3083 non-null   float64\n",
      " 22  Median selected monthly owner costs -without a mortgage, 2015-2019                      3086 non-null   float64\n",
      " 23  Median gross rent, 2015-2019                                                            3083 non-null   float64\n",
      " 24  Building permits, 2019                                                                  2978 non-null   float64\n",
      " 25  Households, 2015-2019                                                                   3087 non-null   float64\n",
      " 26  Persons per household, 2015-2019                                                        3087 non-null   float64\n",
      " 27  Living in same house 1 year ago, percent of persons age 1 year+, 2015-2019              3087 non-null   float64\n",
      " 28  Language other than English spoken at home, percent of persons age 5 years+, 2015-2019  3087 non-null   float64\n",
      " 29  Households with a computer, percent, 2015-2019                                          3087 non-null   float64\n",
      " 30  Households with a broadband Internet subscription, percent, 2015-2019                   3087 non-null   float64\n",
      " 31  High school graduate or higher, percent of persons age 25 years+, 2015-2019             3087 non-null   float64\n",
      " 32  Bachelor's degree or higher, percent of persons age 25 years+, 2015-2019                3087 non-null   float64\n",
      " 33  With a disability, under age 65 years, percent, 2015-2019                               3087 non-null   float64\n",
      " 34  Persons  without health insurance, under age 65 years, percent                          3086 non-null   float64\n",
      " 35  In civilian labor force, total, percent of population age 16 years+, 2015-2019          3087 non-null   float64\n",
      " 36  In civilian labor force, female, percent of population age 16 years+, 2015-2019         3087 non-null   float64\n",
      " 37  Total accommodation and food services sales, 2012 ($1,000)(c)                           2414 non-null   float64\n",
      " 38  Total health care and social assistance receipts/revenue, 2012 ($1,000)(c)              2617 non-null   float64\n",
      " 39  Total manufacturers shipments, 2012 ($1,000)(c)                                         2136 non-null   float64\n",
      " 40  Total merchant wholesaler sales, 2012 ($1,000)(c)                                       2074 non-null   float64\n",
      " 41  Total retail sales, 2012 ($1,000)(c)                                                    3032 non-null   float64\n",
      " 42  Total retail sales per capita, 2012(c)                                                  3032 non-null   float64\n",
      " 43  Mean travel time to work (minutes), workers age 16 years+, 2015-2019                    3086 non-null   float64\n",
      " 44  Median household income (in 2019 dollars), 2015-2019                                    3087 non-null   float64\n",
      " 45  Per capita income in past 12 months (in 2019 dollars), 2015-2019                        3087 non-null   float64\n",
      " 46  Persons in poverty, percent                                                             3086 non-null   float64\n",
      " 47  Total employer establishments, 2018                                                     3085 non-null   float64\n",
      " 48  Total employment, 2018                                                                  3085 non-null   float64\n",
      " 49  Total annual payroll, 2018 ($1,000)                                                     3085 non-null   float64\n",
      " 50  Total employment, percent change, 2017-2018                                             3068 non-null   float64\n",
      " 51  Total nonemployer establishments, 2018                                                  3086 non-null   float64\n",
      " 52  All firms, 2012                                                                         3083 non-null   float64\n",
      " 53  Men-owned firms, 2012                                                                   3071 non-null   float64\n",
      " 54  Women-owned firms, 2012                                                                 3037 non-null   float64\n",
      " 55  Minority-owned firms, 2012                                                              2523 non-null   float64\n",
      " 56  Nonminority-owned firms, 2012                                                           3079 non-null   float64\n",
      " 57  Veteran-owned firms, 2012                                                               2854 non-null   float64\n",
      " 58  Nonveteran-owned firms, 2012                                                            3081 non-null   float64\n",
      " 59  Population per square mile, 2010                                                        3086 non-null   float64\n",
      " 60  Land area in square miles, 2010                                                         3087 non-null   float64\n",
      " 61  county                                                                                  3087 non-null   object \n",
      " 62  state                                                                                   3087 non-null   object \n",
      " 63  cases                                                                                   3087 non-null   int64  \n",
      " 64  deaths                                                                                  3087 non-null   float64\n",
      "dtypes: float64(62), int64(1), object(2)\n",
      "memory usage: 1.6+ MB\n"
     ]
    }
   ],
   "source": [
    "county_df = pd.read_pickle(\"../Data/county_data_totals.pkl\")\n",
    "county_df.info()"
   ]
  },
  {
   "cell_type": "code",
   "execution_count": 3,
   "metadata": {},
   "outputs": [],
   "source": [
    "county_df.drop(county_df[county_df['deaths'] == 0].index, inplace = True) \n",
    "county_df['Deaths per 100k'] = 1e5*county_df['deaths']/county_df['Population estimates, July 1, 2019,  (V2019)']\n",
    "pt_boxcox = preprocessing.PowerTransformer(method='box-cox', standardize=True)\n",
    "county_df['Deaths per 100k, trans'] = pt_boxcox.fit_transform(county_df[['Deaths per 100k']])\n",
    "# county_df['Deaths per 100k, trans'] = county_df['Deaths per 100k'] # comment this in instead of the above to not do the box cox transform (for plots showing it's use)\n"
   ]
  },
  {
   "cell_type": "code",
   "execution_count": 4,
   "metadata": {},
   "outputs": [
    {
     "name": "stdout",
     "output_type": "stream",
     "text": [
      "<class 'pandas.core.frame.DataFrame'>\n",
      "Float64Index: 3007 entries, 1001.0 to 56045.0\n",
      "Data columns (total 67 columns):\n",
      " #   Column                                                                                  Non-Null Count  Dtype  \n",
      "---  ------                                                                                  --------------  -----  \n",
      " 0   Population estimates, July 1, 2019,  (V2019)                                            3007 non-null   float64\n",
      " 1   Population estimates base, April 1, 2010,  (V2019)                                      3007 non-null   float64\n",
      " 2   Population, percent change - April 1, 2010 (estimates base) to July 1, 2019,  (V2019)   3007 non-null   float64\n",
      " 3   Population, Census, April 1, 2010                                                       3007 non-null   float64\n",
      " 4   Persons under 5 years, percent                                                          3007 non-null   float64\n",
      " 5   Persons under 18 years, percent                                                         3007 non-null   float64\n",
      " 6   Persons 65 years and over, percent                                                      3007 non-null   float64\n",
      " 7   Female persons, percent                                                                 3007 non-null   float64\n",
      " 8   White alone, percent                                                                    3007 non-null   float64\n",
      " 9   Black or African American alone, percent(a)                                             3004 non-null   float64\n",
      " 10  American Indian and Alaska Native alone, percent(a)                                     3006 non-null   float64\n",
      " 11  Asian alone, percent(a)                                                                 3004 non-null   float64\n",
      " 12  Native Hawaiian and Other Pacific Islander alone, percent(a)                            1818 non-null   float64\n",
      " 13  Two or More Races, percent                                                              3007 non-null   float64\n",
      " 14  Hispanic or Latino, percent(b)                                                          3007 non-null   float64\n",
      " 15  White alone, not Hispanic or Latino, percent                                            3007 non-null   float64\n",
      " 16  Veterans, 2015-2019                                                                     3006 non-null   float64\n",
      " 17  Foreign born persons, percent, 2015-2019                                                3007 non-null   float64\n",
      " 18  Housing units,  July 1, 2019,  (V2019)                                                  3007 non-null   float64\n",
      " 19  Owner-occupied housing unit rate, 2015-2019                                             3007 non-null   float64\n",
      " 20  Median value of owner-occupied housing units, 2015-2019                                 3007 non-null   float64\n",
      " 21  Median selected monthly owner costs -with a mortgage, 2015-2019                         3006 non-null   float64\n",
      " 22  Median selected monthly owner costs -without a mortgage, 2015-2019                      3007 non-null   float64\n",
      " 23  Median gross rent, 2015-2019                                                            3006 non-null   float64\n",
      " 24  Building permits, 2019                                                                  2919 non-null   float64\n",
      " 25  Households, 2015-2019                                                                   3007 non-null   float64\n",
      " 26  Persons per household, 2015-2019                                                        3007 non-null   float64\n",
      " 27  Living in same house 1 year ago, percent of persons age 1 year+, 2015-2019              3007 non-null   float64\n",
      " 28  Language other than English spoken at home, percent of persons age 5 years+, 2015-2019  3007 non-null   float64\n",
      " 29  Households with a computer, percent, 2015-2019                                          3007 non-null   float64\n",
      " 30  Households with a broadband Internet subscription, percent, 2015-2019                   3007 non-null   float64\n",
      " 31  High school graduate or higher, percent of persons age 25 years+, 2015-2019             3007 non-null   float64\n",
      " 32  Bachelor's degree or higher, percent of persons age 25 years+, 2015-2019                3007 non-null   float64\n",
      " 33  With a disability, under age 65 years, percent, 2015-2019                               3007 non-null   float64\n",
      " 34  Persons  without health insurance, under age 65 years, percent                          3007 non-null   float64\n",
      " 35  In civilian labor force, total, percent of population age 16 years+, 2015-2019          3007 non-null   float64\n",
      " 36  In civilian labor force, female, percent of population age 16 years+, 2015-2019         3007 non-null   float64\n",
      " 37  Total accommodation and food services sales, 2012 ($1,000)(c)                           2367 non-null   float64\n",
      " 38  Total health care and social assistance receipts/revenue, 2012 ($1,000)(c)              2571 non-null   float64\n",
      " 39  Total manufacturers shipments, 2012 ($1,000)(c)                                         2086 non-null   float64\n",
      " 40  Total merchant wholesaler sales, 2012 ($1,000)(c)                                       2035 non-null   float64\n",
      " 41  Total retail sales, 2012 ($1,000)(c)                                                    2973 non-null   float64\n",
      " 42  Total retail sales per capita, 2012(c)                                                  2973 non-null   float64\n",
      " 43  Mean travel time to work (minutes), workers age 16 years+, 2015-2019                    3007 non-null   float64\n",
      " 44  Median household income (in 2019 dollars), 2015-2019                                    3007 non-null   float64\n",
      " 45  Per capita income in past 12 months (in 2019 dollars), 2015-2019                        3007 non-null   float64\n",
      " 46  Persons in poverty, percent                                                             3007 non-null   float64\n",
      " 47  Total employer establishments, 2018                                                     3007 non-null   float64\n",
      " 48  Total employment, 2018                                                                  3007 non-null   float64\n",
      " 49  Total annual payroll, 2018 ($1,000)                                                     3007 non-null   float64\n",
      " 50  Total employment, percent change, 2017-2018                                             2991 non-null   float64\n",
      " 51  Total nonemployer establishments, 2018                                                  3007 non-null   float64\n",
      " 52  All firms, 2012                                                                         3006 non-null   float64\n",
      " 53  Men-owned firms, 2012                                                                   3003 non-null   float64\n",
      " 54  Women-owned firms, 2012                                                                 2979 non-null   float64\n",
      " 55  Minority-owned firms, 2012                                                              2503 non-null   float64\n",
      " 56  Nonminority-owned firms, 2012                                                           3003 non-null   float64\n",
      " 57  Veteran-owned firms, 2012                                                               2822 non-null   float64\n",
      " 58  Nonveteran-owned firms, 2012                                                            3005 non-null   float64\n",
      " 59  Population per square mile, 2010                                                        3006 non-null   float64\n",
      " 60  Land area in square miles, 2010                                                         3007 non-null   float64\n",
      " 61  county                                                                                  3007 non-null   object \n",
      " 62  state                                                                                   3007 non-null   object \n",
      " 63  cases                                                                                   3007 non-null   int64  \n",
      " 64  deaths                                                                                  3007 non-null   float64\n",
      " 65  Deaths per 100k                                                                         3007 non-null   float64\n",
      " 66  Deaths per 100k, trans                                                                  3007 non-null   float64\n",
      "dtypes: float64(64), int64(1), object(2)\n",
      "memory usage: 1.6+ MB\n"
     ]
    }
   ],
   "source": [
    "county_df.info()"
   ]
  },
  {
   "cell_type": "code",
   "execution_count": 5,
   "metadata": {},
   "outputs": [
    {
     "name": "stdout",
     "output_type": "stream",
     "text": [
      "<class 'pandas.core.frame.DataFrame'>\n",
      "Float64Index: 3004 entries, 1001.0 to 56045.0\n",
      "Data columns (total 13 columns):\n",
      " #   Column                                                                       Non-Null Count  Dtype  \n",
      "---  ------                                                                       --------------  -----  \n",
      " 0   Persons 65 years and over, percent                                           3004 non-null   float64\n",
      " 1   Black or African American alone, percent(a)                                  3004 non-null   float64\n",
      " 2   Two or More Races, percent                                                   3004 non-null   float64\n",
      " 3   White alone, not Hispanic or Latino, percent                                 3004 non-null   float64\n",
      " 4   Median value of owner-occupied housing units, 2015-2019                      3004 non-null   float64\n",
      " 5   Living in same house 1 year ago, percent of persons age 1 year+, 2015-2019   3004 non-null   float64\n",
      " 6   Households with a computer, percent, 2015-2019                               3004 non-null   float64\n",
      " 7   Households with a broadband Internet subscription, percent, 2015-2019        3004 non-null   float64\n",
      " 8   High school graduate or higher, percent of persons age 25 years+, 2015-2019  3004 non-null   float64\n",
      " 9   Bachelor's degree or higher, percent of persons age 25 years+, 2015-2019     3004 non-null   float64\n",
      " 10  Persons  without health insurance, under age 65 years, percent               3004 non-null   float64\n",
      " 11  Median household income (in 2019 dollars), 2015-2019                         3004 non-null   float64\n",
      " 12  Deaths per 100k, trans                                                       3004 non-null   float64\n",
      "dtypes: float64(13)\n",
      "memory usage: 328.6 KB\n"
     ]
    }
   ],
   "source": [
    "# main_features_df = county_df[[\"Black or African American alone, percent(a)\", \"Bachelor's degree or higher, percent of persons age 25 years+, 2015-2019\", \\\n",
    "#                               \"Persons  without health insurance, under age 65 years, percent\", \"Households with a broadband Internet subscription, percent, 2015-2019\", \\\n",
    "#                               \"Median value of owner-occupied housing units, 2015-2019\", \\\n",
    "#                               \"Deaths per 100k, trans\"]].dropna()\n",
    "\n",
    "main_features_df = county_df[[\\\n",
    "#                             no    \"Persons under 5 years, percent\",\\\n",
    "                              \"Persons 65 years and over, percent\",\\\n",
    "#                             no    \"White alone, percent\",\\\n",
    "                                \"Black or African American alone, percent(a)\",\\\n",
    "#                             no    \"Asian alone, percent(a)\",\\\n",
    "                                \"Two or More Races, percent\",\\\n",
    "                                \"White alone, not Hispanic or Latino, percent\",\\\n",
    "                                \"Median value of owner-occupied housing units, 2015-2019\",\\\n",
    "#                             no    \"Median gross rent, 2015-2019\",\\\n",
    "                                \"Living in same house 1 year ago, percent of persons age 1 year+, 2015-2019\",\\\n",
    "                                \"Households with a computer, percent, 2015-2019\",\\\n",
    "                                \"Households with a broadband Internet subscription, percent, 2015-2019\",\n",
    "                                \"High school graduate or higher, percent of persons age 25 years+, 2015-2019\",\\\n",
    "                                \"Bachelor's degree or higher, percent of persons age 25 years+, 2015-2019\",\\\n",
    "                                \"Persons  without health insurance, under age 65 years, percent\",\\\n",
    "                                \"Median household income (in 2019 dollars), 2015-2019\",\\\n",
    "                                \"Deaths per 100k, trans\"]].dropna()\n",
    "\n",
    "\n",
    "\n",
    "\n",
    "\n",
    "main_features_df.info()"
   ]
  },
  {
   "cell_type": "code",
   "execution_count": 6,
   "metadata": {},
   "outputs": [
    {
     "name": "stdout",
     "output_type": "stream",
     "text": [
      "<class 'pandas.core.frame.DataFrame'>\n",
      "Float64Index: 2988 entries, 1001.0 to 56045.0\n",
      "Data columns (total 13 columns):\n",
      " #   Column                                                                       Non-Null Count  Dtype  \n",
      "---  ------                                                                       --------------  -----  \n",
      " 0   Persons 65 years and over, percent                                           2988 non-null   float64\n",
      " 1   Black or African American alone, percent(a)                                  2988 non-null   float64\n",
      " 2   Two or More Races, percent                                                   2988 non-null   float64\n",
      " 3   White alone, not Hispanic or Latino, percent                                 2988 non-null   float64\n",
      " 4   Median value of owner-occupied housing units, 2015-2019                      2988 non-null   float64\n",
      " 5   Living in same house 1 year ago, percent of persons age 1 year+, 2015-2019   2988 non-null   float64\n",
      " 6   Households with a computer, percent, 2015-2019                               2988 non-null   float64\n",
      " 7   Households with a broadband Internet subscription, percent, 2015-2019        2988 non-null   float64\n",
      " 8   High school graduate or higher, percent of persons age 25 years+, 2015-2019  2988 non-null   float64\n",
      " 9   Bachelor's degree or higher, percent of persons age 25 years+, 2015-2019     2988 non-null   float64\n",
      " 10  Persons  without health insurance, under age 65 years, percent               2988 non-null   float64\n",
      " 11  Median household income (in 2019 dollars), 2015-2019                         2988 non-null   float64\n",
      " 12  Deaths per 100k, trans                                                       2988 non-null   float64\n",
      "dtypes: float64(13)\n",
      "memory usage: 326.8 KB\n"
     ]
    }
   ],
   "source": [
    "# drop some outliers\n",
    "main_features_df.drop(main_features_df[main_features_df['Two or More Races, percent'] > 20].index, inplace = True) \n",
    "main_features_df.drop(main_features_df[main_features_df['Living in same house 1 year ago, percent of persons age 1 year+, 2015-2019'] < 70].index, inplace = True) \n",
    "# no main_features_df.drop(main_features_df[main_features_df['High school graduate or higher, percent of persons age 25 years+, 2015-2019'] < 50].index, inplace = True) \n",
    "# no main_features_df.drop(main_features_df[main_features_df['Median value of owner-occupied housing units, 2015-2019'] > 0.8e6].index, inplace = True) \n",
    "main_features_df.info()"
   ]
  },
  {
   "cell_type": "code",
   "execution_count": 7,
   "metadata": {},
   "outputs": [],
   "source": [
    "#sns.heatmap(main_features_df.corr(), cmap=\"seismic\", vmin=-1, vmax=1);"
   ]
  },
  {
   "cell_type": "code",
   "execution_count": 8,
   "metadata": {},
   "outputs": [],
   "source": [
    "# pp = sns.pairplot(main_features_df, plot_kws=dict(alpha=.1, edgecolor='none'))\n",
    "# for ax in pp.axes.flatten():\n",
    "#     ax.set_xlabel(ax.get_xlabel(), rotation = 5)\n",
    "#     ax.set_ylabel(ax.get_ylabel(), rotation = 85)\n",
    "##     ax.yaxis.get_label().set_horizontalalignment('right')    "
   ]
  },
  {
   "cell_type": "code",
   "execution_count": 9,
   "metadata": {},
   "outputs": [],
   "source": [
    "X, y = main_features_df.drop('Deaths per 100k, trans',axis=1), main_features_df['Deaths per 100k, trans']\n",
    "input_features = list(X.columns)\n",
    "\n",
    "X, X_test, y, y_test = train_test_split(X, y, test_size=.2, random_state=110) #hold out 20% of the data for final testing\n",
    "\n",
    "#this helps with the way kf will generate indices below\n",
    "X, y = np.array(X), np.array(y)"
   ]
  },
  {
   "cell_type": "code",
   "execution_count": 10,
   "metadata": {},
   "outputs": [
    {
     "name": "stdout",
     "output_type": "stream",
     "text": [
      "Simple regression scores:  [0.241, 0.268, 0.238, 0.289, 0.267] \n",
      "\n",
      "Simple mean cv r^2: 0.261 +- 0.019 \n",
      "\n",
      "Simple regression coef:  [ 1.66284414e-02 -3.55427534e-03 -2.04275406e-01 -1.70960411e-02\n",
      " -3.66573030e-06  7.76273197e-05 -3.40688405e-02  4.28558659e-03\n",
      "  1.47747187e-02 -7.03352287e-03  9.61963152e-03  1.23217121e-05] \n",
      "\n"
     ]
    },
    {
     "data": {
      "image/png": "[encoded data removed]",
      "text/plain": [
       "<Figure size 720x360 with 2 Axes>"
      ]
     },
     "metadata": {
      "needs_background": "light"
     },
     "output_type": "display_data"
    }
   ],
   "source": [
    "rg.doSimpleLinearRegression(X, y, input_features)"
   ]
  },
  {
   "cell_type": "code",
   "execution_count": 11,
   "metadata": {},
   "outputs": [
    {
     "name": "stdout",
     "output_type": "stream",
     "text": [
      "Poly scores:  [0.283, 0.321, 0.339, 0.315, 0.316] \n",
      "\n",
      "Poly mean cv r^2: 0.315 +- 0.018 \n",
      "\n",
      "Poly coef:  [-1.49168122e-07 -9.50173161e-02  5.45799658e-02 -1.28545855e+00\n",
      "  1.06689198e-01  6.80106732e-07 -2.74529861e-01 -7.59978024e-02\n",
      "  8.14993350e-02 -2.66142828e-02  2.15127750e-01  3.38578525e-01\n",
      " -8.68904595e-05 -9.07235620e-04 -1.00134500e-03 -1.63910805e-02\n",
      "  6.48785097e-04  3.12687686e-08 -9.28158709e-04  1.11287403e-03\n",
      "  8.24171926e-04  1.25538389e-03 -1.89439081e-03  5.37527388e-04\n",
      " -3.42380667e-07  7.44167422e-05 -6.13048696e-03  1.35036342e-04\n",
      "  7.97445577e-08 -1.24647138e-05 -2.67522249e-04  4.72111368e-04\n",
      " -2.74324125e-04 -2.23455903e-04 -7.56627135e-04 -6.01282372e-07\n",
      "  5.05946459e-03  1.13277344e-03 -2.19876680e-07  1.20492584e-02\n",
      " -4.49404857e-03  7.05130249e-03  4.03164560e-03 -2.78212857e-04\n",
      " -1.64628872e-03 -3.85137439e-06 -2.94467188e-04 -7.98347332e-08\n",
      " -7.55534187e-04 -5.78904420e-04  5.94505558e-05 -2.76047002e-05\n",
      " -7.24726480e-05  6.02097773e-04  2.74106050e-07 -6.33740282e-12\n",
      "  1.33719201e-08 -2.90124966e-07  3.23219978e-07 -7.76717691e-08\n",
      "  2.86308220e-07  1.36735035e-08  1.21325172e-12  2.13721074e-03\n",
      " -9.21459007e-04  8.77789396e-05 -3.40607390e-04  7.27607516e-05\n",
      " -1.47726325e-03  1.30717507e-06  2.49620701e-04 -2.34996763e-03\n",
      "  4.07982994e-03 -2.19269946e-03  4.66319437e-04  1.65283264e-08\n",
      "  7.87770710e-04 -1.63895591e-03 -5.91697933e-04  1.19929293e-03\n",
      "  1.11625094e-06 -8.16897663e-04  6.13935782e-04 -2.98941286e-03\n",
      " -7.21876444e-08 -1.30251446e-03 -8.07913796e-04  4.82559954e-07\n",
      " -1.06813153e-03 -1.61406068e-06 -8.06967604e-10] \n",
      "\n"
     ]
    },
    {
     "data": {
      "image/png": "[encoded data removed]",
      "text/plain": [
       "<Figure size 720x360 with 2 Axes>"
      ]
     },
     "metadata": {
      "needs_background": "light"
     },
     "output_type": "display_data"
    }
   ],
   "source": [
    "rg.doPolynomialRegression(X, y, input_features)"
   ]
  },
  {
   "cell_type": "code",
   "execution_count": 12,
   "metadata": {},
   "outputs": [
    {
     "name": "stdout",
     "output_type": "stream",
     "text": [
      "LassoCV simple regression score:  0.269 \n",
      "\n",
      "LassoCV simple alpha:  0.0014057540825200062 \n",
      "\n",
      "LassoCV simple coef:  [ 0.07433218 -0.04729389 -0.22784183 -0.32740916 -0.32204395  0.00199969\n",
      " -0.19282177  0.01902547  0.08361017 -0.05711893  0.04456138  0.16139393] \n",
      "\n"
     ]
    }
   ],
   "source": [
    "rg.doLassoCV(X,y)"
   ]
  },
  {
   "cell_type": "code",
   "execution_count": 13,
   "metadata": {},
   "outputs": [
    {
     "name": "stderr",
     "output_type": "stream",
     "text": [
      "/Users/NickPC/anaconda3/lib/python3.8/site-packages/sklearn/linear_model/_coordinate_descent.py:525: ConvergenceWarning: Objective did not converge. You might want to increase the number of iterations. Duality gap: 0.19390571175108562, tolerance: 0.1874379373230216\n",
      "  model = cd_fast.enet_coordinate_descent_gram(\n",
      "/Users/NickPC/anaconda3/lib/python3.8/site-packages/sklearn/linear_model/_coordinate_descent.py:525: ConvergenceWarning: Objective did not converge. You might want to increase the number of iterations. Duality gap: 0.24327671334140177, tolerance: 0.1874379373230216\n",
      "  model = cd_fast.enet_coordinate_descent_gram(\n",
      "/Users/NickPC/anaconda3/lib/python3.8/site-packages/sklearn/linear_model/_coordinate_descent.py:525: ConvergenceWarning: Objective did not converge. You might want to increase the number of iterations. Duality gap: 0.23352813074097867, tolerance: 0.1874379373230216\n",
      "  model = cd_fast.enet_coordinate_descent_gram(\n",
      "/Users/NickPC/anaconda3/lib/python3.8/site-packages/sklearn/linear_model/_coordinate_descent.py:525: ConvergenceWarning: Objective did not converge. You might want to increase the number of iterations. Duality gap: 0.25647601506625506, tolerance: 0.1874379373230216\n",
      "  model = cd_fast.enet_coordinate_descent_gram(\n",
      "/Users/NickPC/anaconda3/lib/python3.8/site-packages/sklearn/linear_model/_coordinate_descent.py:525: ConvergenceWarning: Objective did not converge. You might want to increase the number of iterations. Duality gap: 0.21739722979009457, tolerance: 0.1874379373230216\n",
      "  model = cd_fast.enet_coordinate_descent_gram(\n",
      "/Users/NickPC/anaconda3/lib/python3.8/site-packages/sklearn/linear_model/_coordinate_descent.py:525: ConvergenceWarning: Objective did not converge. You might want to increase the number of iterations. Duality gap: 0.20869178361635932, tolerance: 0.1874379373230216\n",
      "  model = cd_fast.enet_coordinate_descent_gram(\n",
      "/Users/NickPC/anaconda3/lib/python3.8/site-packages/sklearn/linear_model/_coordinate_descent.py:525: ConvergenceWarning: Objective did not converge. You might want to increase the number of iterations. Duality gap: 0.24974964597709004, tolerance: 0.1874379373230216\n",
      "  model = cd_fast.enet_coordinate_descent_gram(\n"
     ]
    },
    {
     "name": "stdout",
     "output_type": "stream",
     "text": [
      "LassoCV poly regression score:  0.364 \n",
      "\n",
      "LassoCV poly alpha:  0.0004380803764332246 \n",
      "\n",
      "LassoCV poly coef:  [ 0.          0.          0.         -0.          0.0488612  -0.\n",
      " -0.00572578  0.         -0.          0.          0.10757055  0.47876174\n",
      "  0.         -0.07870904 -0.28126554 -0.25556437  0.30223805 -0.08642164\n",
      " -0.5147027   0.6288655   0.04221985  0.         -0.20101555 -0.06831062\n",
      "  0.10475715  0.         -0.19282461  0.05422385  0.10998472  0.36739677\n",
      "  0.33757406  0.01917946 -0.         -0.02674034 -0.14154927 -0.36373374\n",
      "  0.02254795  0.08770748 -0.12616184  0.06292666 -0.          0.09013342\n",
      " -0.         -0.         -0.08120239 -0.14114755 -0.66289804 -0.52694266\n",
      " -0.08013044 -0.         -0.19936962  0.17596471 -0.          0.24421372\n",
      "  0.17621214 -0.26781699 -0.         -1.09658304  1.08616075 -0.10221942\n",
      "  1.05144922 -0.01681297 -0.          0.03486213 -0.         -0.10321566\n",
      " -0.13948865  0.32567352  0.          0.78122945 -0.53631255 -0.24497971\n",
      "  0.49976142 -0.          0.         -0.         -0.          0.\n",
      "  0.          0.45953307  0.19059519  0.          0.         -0.45248841\n",
      " -0.         -0.65008858 -0.08989398  0.          0.         -0.48513056\n",
      " -0.61621357] \n",
      "\n"
     ]
    },
    {
     "name": "stderr",
     "output_type": "stream",
     "text": [
      "/Users/NickPC/anaconda3/lib/python3.8/site-packages/sklearn/linear_model/_coordinate_descent.py:529: ConvergenceWarning: Objective did not converge. You might want to increase the number of iterations. Duality gap: 5.840405711054245, tolerance: 0.23306444872256543\n",
      "  model = cd_fast.enet_coordinate_descent(\n"
     ]
    }
   ],
   "source": [
    "rg.doLassoCV(X,y,True)"
   ]
  },
  {
   "cell_type": "code",
   "execution_count": 14,
   "metadata": {},
   "outputs": [
    {
     "name": "stdout",
     "output_type": "stream",
     "text": [
      "RidgeCV simple regression score:  0.269 \n",
      "\n",
      "RidgeCV simple alpha:  10.0 \n",
      "\n",
      "RidgeCV simple coef:  [ 0.0750525  -0.04890042 -0.22911927 -0.33100218 -0.32088502  0.00220414\n",
      " -0.20513362  0.03199081  0.08978402 -0.06331978  0.04878459  0.16369216] \n",
      "\n"
     ]
    }
   ],
   "source": [
    "rg.doRidgeCV(X,y)"
   ]
  },
  {
   "cell_type": "code",
   "execution_count": 15,
   "metadata": {},
   "outputs": [
    {
     "name": "stdout",
     "output_type": "stream",
     "text": [
      "RidgeCV poly regression score:  0.369 \n",
      "\n",
      "RidgeCV poly alpha:  1.0 \n",
      "\n",
      "RidgeCV poly coef:  [ 0.          0.0734168   0.24778784 -0.58231355  0.5905935  -0.31493595\n",
      " -0.50637902  0.16711936 -0.09699244  0.0483996   0.46843109  0.59435499\n",
      "  0.04145039 -0.10869581 -0.31690198 -0.31645573  0.27636064 -0.03728049\n",
      " -0.54485279  0.51094888  0.20218754  0.05812517 -0.25832621 -0.06197699\n",
      "  0.0430764   0.02277139 -0.18292377  0.08102728  0.15477343  0.29521191\n",
      "  0.21422676  0.15804451 -0.14383628 -0.08755519 -0.15592366 -0.40843794\n",
      "  0.04125896  0.10049228 -0.09344529  0.57901786 -0.15929995  0.34162297\n",
      "  0.04643693 -0.012398   -0.06843035 -0.22124558 -0.66902638 -0.44278957\n",
      " -0.44025118 -0.10586358 -0.30113698  0.18649109 -0.15292691  0.23597158\n",
      "  0.23587893 -0.29821582  0.04195306 -0.61366985  1.01243157 -0.42543259\n",
      "  1.10301719 -0.01002102  0.04132971  0.67767615  0.01523801 -0.20409152\n",
      " -0.33863427  0.50951043 -0.13773717  0.8395093  -0.54582008 -0.59725099\n",
      "  0.68482845 -0.48205605  0.13114059 -0.28794389  0.1785533   0.01939822\n",
      " -0.05754592  0.45246759  0.73026806  0.04316249  0.14010019 -0.51425389\n",
      " -0.08200202 -0.65537187 -0.12510888  0.03591826 -0.0269824  -0.47378636\n",
      " -0.79859798] \n",
      "\n"
     ]
    }
   ],
   "source": [
    "rg.doRidgeCV(X,y,True)"
   ]
  },
  {
   "cell_type": "code",
   "execution_count": null,
   "metadata": {},
   "outputs": [],
   "source": []
  }
 ],
 "metadata": {
  "kernelspec": {
   "display_name": "Python 3",
   "language": "python",
   "name": "python3"
  },
  "language_info": {
   "codemirror_mode": {
    "name": "ipython",
    "version": 3
   },
   "file_extension": ".py",
   "mimetype": "text/x-python",
   "name": "python",
   "nbconvert_exporter": "python",
   "pygments_lexer": "ipython3",
   "version": "3.8.5"
  }
 },
 "nbformat": 4,
 "nbformat_minor": 4
}
