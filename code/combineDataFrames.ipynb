{
 "cells": [
  {
   "cell_type": "code",
   "execution_count": 6,
   "metadata": {},
   "outputs": [],
   "source": [
    "import math\n",
    "import pandas as pd\n",
    "import glob"
   ]
  },
  {
   "cell_type": "code",
   "execution_count": 9,
   "metadata": {
    "scrolled": true
   },
   "outputs": [
    {
     "name": "stdout",
     "output_type": "stream",
     "text": [
      "<class 'pandas.core.frame.DataFrame'>\n",
      "MultiIndex: 3092 entries, ('Autauga County', 'Alabama') to ('Weston County', 'Wyoming')\n",
      "Data columns (total 62 columns):\n",
      " #   Column                                                                                  Non-Null Count  Dtype  \n",
      "---  ------                                                                                  --------------  -----  \n",
      " 0   Population estimates, July 1, 2019,  (V2019)                                            3092 non-null   float64\n",
      " 1   Population estimates base, April 1, 2010,  (V2019)                                      3092 non-null   float64\n",
      " 2   Population, percent change - April 1, 2010 (estimates base) to July 1, 2019,  (V2019)   3092 non-null   float64\n",
      " 3   Population, Census, April 1, 2010                                                       3092 non-null   float64\n",
      " 4   Persons under 5 years, percent                                                          3091 non-null   float64\n",
      " 5   Persons under 18 years, percent                                                         3091 non-null   float64\n",
      " 6   Persons 65 years and over, percent                                                      3092 non-null   float64\n",
      " 7   Female persons, percent                                                                 3092 non-null   float64\n",
      " 8   White alone, percent                                                                    3092 non-null   float64\n",
      " 9   Black or African American alone, percent(a)                                             3084 non-null   float64\n",
      " 10  American Indian and Alaska Native alone, percent(a)                                     3090 non-null   float64\n",
      " 11  Asian alone, percent(a)                                                                 3085 non-null   float64\n",
      " 12  Native Hawaiian and Other Pacific Islander alone, percent(a)                            1854 non-null   float64\n",
      " 13  Two or More Races, percent                                                              3090 non-null   float64\n",
      " 14  Hispanic or Latino, percent(b)                                                          3092 non-null   float64\n",
      " 15  White alone, not Hispanic or Latino, percent                                            3092 non-null   float64\n",
      " 16  Veterans, 2015-2019                                                                     3091 non-null   float64\n",
      " 17  Foreign born persons, percent, 2015-2019                                                3092 non-null   float64\n",
      " 18  Housing units,  July 1, 2019,  (V2019)                                                  3088 non-null   float64\n",
      " 19  Owner-occupied housing unit rate, 2015-2019                                             3091 non-null   float64\n",
      " 20  Median value of owner-occupied housing units, 2015-2019                                 3090 non-null   float64\n",
      " 21  Median selected monthly owner costs -with a mortgage, 2015-2019                         3088 non-null   float64\n",
      " 22  Median selected monthly owner costs -without a mortgage, 2015-2019                      3091 non-null   float64\n",
      " 23  Median gross rent, 2015-2019                                                            3088 non-null   float64\n",
      " 24  Building permits, 2019                                                                  2979 non-null   float64\n",
      " 25  Households, 2015-2019                                                                   3092 non-null   float64\n",
      " 26  Persons per household, 2015-2019                                                        3092 non-null   float64\n",
      " 27  Living in same house 1 year ago, percent of persons age 1 year+, 2015-2019              3092 non-null   float64\n",
      " 28  Language other than English spoken at home, percent of persons age 5 years+, 2015-2019  3092 non-null   float64\n",
      " 29  Households with a computer, percent, 2015-2019                                          3092 non-null   float64\n",
      " 30  Households with a broadband Internet subscription, percent, 2015-2019                   3092 non-null   float64\n",
      " 31  High school graduate or higher, percent of persons age 25 years+, 2015-2019             3092 non-null   float64\n",
      " 32  Bachelor's degree or higher, percent of persons age 25 years+, 2015-2019                3092 non-null   float64\n",
      " 33  With a disability, under age 65 years, percent, 2015-2019                               3092 non-null   float64\n",
      " 34  Persons  without health insurance, under age 65 years, percent                          3091 non-null   float64\n",
      " 35  In civilian labor force, total, percent of population age 16 years+, 2015-2019          3092 non-null   float64\n",
      " 36  In civilian labor force, female, percent of population age 16 years+, 2015-2019         3092 non-null   float64\n",
      " 37  Total accommodation and food services sales, 2012 ($1,000)(c)                           2419 non-null   float64\n",
      " 38  Total health care and social assistance receipts/revenue, 2012 ($1,000)(c)              2621 non-null   float64\n",
      " 39  Total manufacturers shipments, 2012 ($1,000)(c)                                         2140 non-null   float64\n",
      " 40  Total merchant wholesaler sales, 2012 ($1,000)(c)                                       2078 non-null   float64\n",
      " 41  Total retail sales, 2012 ($1,000)(c)                                                    3037 non-null   float64\n",
      " 42  Total retail sales per capita, 2012(c)                                                  3037 non-null   float64\n",
      " 43  Mean travel time to work (minutes), workers age 16 years+, 2015-2019                    3091 non-null   float64\n",
      " 44  Median household income (in 2019 dollars), 2015-2019                                    3092 non-null   float64\n",
      " 45  Per capita income in past 12 months (in 2019 dollars), 2015-2019                        3092 non-null   float64\n",
      " 46  Persons in poverty, percent                                                             3091 non-null   float64\n",
      " 47  Total employer establishments, 2018                                                     3086 non-null   float64\n",
      " 48  Total employment, 2018                                                                  3086 non-null   float64\n",
      " 49  Total annual payroll, 2018 ($1,000)                                                     3086 non-null   float64\n",
      " 50  Total employment, percent change, 2017-2018                                             3069 non-null   float64\n",
      " 51  Total nonemployer establishments, 2018                                                  3087 non-null   float64\n",
      " 52  All firms, 2012                                                                         3088 non-null   float64\n",
      " 53  Men-owned firms, 2012                                                                   3076 non-null   float64\n",
      " 54  Women-owned firms, 2012                                                                 3041 non-null   float64\n",
      " 55  Minority-owned firms, 2012                                                              2528 non-null   float64\n",
      " 56  Nonminority-owned firms, 2012                                                           3084 non-null   float64\n",
      " 57  Veteran-owned firms, 2012                                                               2858 non-null   float64\n",
      " 58  Nonveteran-owned firms, 2012                                                            3086 non-null   float64\n",
      " 59  Population per square mile, 2010                                                        3091 non-null   float64\n",
      " 60  Land area in square miles, 2010                                                         3092 non-null   float64\n",
      " 61  FIPS Code                                                                               3092 non-null   float64\n",
      "dtypes: float64(62)\n",
      "memory usage: 1.6+ MB\n"
     ]
    }
   ],
   "source": [
    "# load census data and drop the District of Columbia\n",
    "county_census_info = pd.read_pickle(\"../Data/county_census_info.pkl\")\n",
    "county_census_info.drop('District of Columbia', level='STATE', inplace=True)\n",
    "county_census_info.info()"
   ]
  },
  {
   "cell_type": "code",
   "execution_count": 52,
   "metadata": {
    "scrolled": true
   },
   "outputs": [
    {
     "name": "stdout",
     "output_type": "stream",
     "text": [
      "../Data/Covid/Delaware.pkl 26\n",
      "../Data/Covid/Massachusetts.pkl 226\n",
      "../Data/Covid/Kentucky.pkl 287\n",
      "../Data/Covid/NewJersey.pkl 349\n",
      "../Data/Covid/California.pkl 58\n",
      "../Data/Covid/Alabama.pkl 67\n",
      "../Data/Covid/RhodeIsland.pkl 441\n",
      "../Data/Covid/Arizona.pkl 15\n",
      "../Data/Covid/Alaska.pkl 27\n",
      "../Data/Covid/Nevada.pkl 325\n",
      "../Data/Covid/Idaho.pkl 107\n",
      "../Data/Covid/Illinois.pkl 166\n",
      "../Data/Covid/Kansas.pkl 212\n",
      "../Data/Covid/Washington.pkl 547\n",
      "../Data/Covid/Oregon.pkl 436\n",
      "../Data/Covid/Vermont.pkl 501\n",
      "../Data/Covid/Iowa.pkl 192\n",
      "../Data/Covid/NewMexico.pkl 357\n",
      "../Data/Covid/SouthDakota.pkl 514\n",
      "../Data/Covid/Missouri.pkl 344\n",
      "../Data/Covid/Connecticut.pkl 23\n",
      "../Data/Covid/Oklahoma.pkl 479\n",
      "../Data/Covid/WestVirginia.pkl 569\n",
      "../Data/Covid/Maine.pkl 208\n",
      "../Data/Covid/Colorado.pkl 64\n",
      "../Data/Covid/Louisiana.pkl 230\n",
      "../Data/Covid/Utah.pkl 508\n",
      "../Data/Covid/NorthDakota.pkl 397\n",
      "../Data/Covid/Virginia.pkl 596\n",
      "../Data/Covid/Ohio.pkl 445\n",
      "../Data/Covid/Arkansas.pkl 75\n",
      "../Data/Covid/Nebraska.pkl 402\n",
      "../Data/Covid/Montana.pkl 343\n",
      "../Data/Covid/Indiana.pkl 167\n",
      "../Data/Covid/SouthCarolina.pkl 487\n",
      "../Data/Covid/NewYork.pkl 400\n",
      "../Data/Covid/Mississippi.pkl 308\n",
      "../Data/Covid/NorthCarolina.pkl 449\n",
      "../Data/Covid/Wyoming.pkl 563\n",
      "../Data/Covid/NewHampshire.pkl 328\n",
      "../Data/Covid/Georgia.pkl 226\n",
      "../Data/Covid/Wisconsin.pkl 619\n",
      "../Data/Covid/Maryland.pkl 231\n",
      "../Data/Covid/Pennsylvania.pkl 464\n",
      "../Data/Covid/Minnesota.pkl 318\n",
      "../Data/Covid/Texas.pkl 718\n",
      "../Data/Covid/Florida.pkl 93\n",
      "../Data/Covid/Hawaii.pkl 63\n",
      "../Data/Covid/Michigan.pkl 309\n",
      "../Data/Covid/Tennessee.pkl 540\n",
      "15819\n"
     ]
    }
   ],
   "source": [
    "state_pkls = glob.glob(\"../Data/Covid/*.pkl\")\n",
    "sorted(state_pkls)\n",
    "\n",
    "size_check = 0\n",
    "for state in state_pkls:\n",
    "    df_temp = pd.read_pickle(state)\n",
    "    size_check += len(df_temp.index)\n",
    "    print(state, len(df_temp.index))\n",
    "print(size_check)"
   ]
  },
  {
   "cell_type": "code",
   "execution_count": 50,
   "metadata": {},
   "outputs": [
    {
     "name": "stdout",
     "output_type": "stream",
     "text": [
      "<class 'pandas.core.frame.DataFrame'>\n",
      "MultiIndex: 15819 entries, ('Autauga County', 'Alabama') to ('Weston County', 'Wyoming')\n",
      "Data columns (total 13 columns):\n",
      " #   Column                                Non-Null Count  Dtype  \n",
      "---  ------                                --------------  -----  \n",
      " 0   SVI                                   15734 non-null  float64\n",
      " 1   CCVI                                  15737 non-null  float64\n",
      " 2   Cases                                 14822 non-null  float64\n",
      " 3   Cases per 100k                        15818 non-null  float64\n",
      " 4   Deaths                                2587 non-null   float64\n",
      " 5   Deaths per 100k                       15818 non-null  float64\n",
      " 6   Percent Positivity                    15386 non-null  float64\n",
      " 7   Testing Volume                        15818 non-null  float64\n",
      " 8   Testing Volume per 100k               15386 non-null  float64\n",
      " 9   New Hospital Admissions               15818 non-null  float64\n",
      " 10  New Hospital Admissions per 100 beds  12665 non-null  float64\n",
      " 11  Percent Beds Used (Covid)             0 non-null      float64\n",
      " 12  Percent ICU Beds Used (Covid)         0 non-null      float64\n",
      "dtypes: float64(13)\n",
      "memory usage: 1.7+ MB\n"
     ]
    }
   ],
   "source": [
    "county_covid_info = pd.concat([pd.read_pickle(state) for state in sorted(state_pkls)], axis=0, join='outer')\n",
    "county_covid_info.reset_index()\n",
    "county_covid_info.info()"
   ]
  },
  {
   "cell_type": "code",
   "execution_count": 46,
   "metadata": {},
   "outputs": [
    {
     "name": "stdout",
     "output_type": "stream",
     "text": [
      "SVI\n",
      "CCVI\n",
      "Cases\n",
      "Cases per 100k\n",
      "Deaths\n",
      "Deaths per 100k\n",
      "Percent Positivity\n",
      "Testing Volume\n",
      "Testing Volume per 100k\n",
      "New Hospital Admissions\n",
      "New Hospital Admissions per 100 beds\n",
      "Percent Beds Used (Covid)\n",
      "Percent ICU Beds Used (Covid)\n"
     ]
    }
   ],
   "source": [
    "for col in county_covid_info.columns:\n",
    "    print(col)"
   ]
  },
  {
   "cell_type": "code",
   "execution_count": 54,
   "metadata": {},
   "outputs": [],
   "source": [
    "# with pd.option_context('display.max_rows', 5, 'display.max_columns', 2):  # more options can be specified also\n",
    "#     print(county_covid_info)\n",
    "# county_covid_info\n",
    "\n",
    "i = 0\n",
    "for index, row in county_covid_info.iterrows():\n",
    "    i+=1\n",
    "    if i > 20: break\n"
   ]
  },
  {
   "cell_type": "code",
   "execution_count": 60,
   "metadata": {},
   "outputs": [
    {
     "name": "stdout",
     "output_type": "stream",
     "text": [
      "1\n",
      "                         SVI  ...  Percent ICU Beds Used (Covid)\n",
      "COUNTY         STATE          ...                               \n",
      "Autauga County Alabama  0.44  ...                            NaN\n",
      "\n",
      "[1 rows x 13 columns]\n"
     ]
    }
   ],
   "source": [
    "test_df = pd.read_pickle(\"../Data/Covid/Alabama.pkl\")\n",
    "\n",
    "print(len(test_df.index))\n",
    "\n",
    "with pd.option_context('display.max_rows', None, 'display.max_columns', 2):  # more options can be specified also\n",
    "    print(test_df)\n"
   ]
  },
  {
   "cell_type": "code",
   "execution_count": null,
   "metadata": {},
   "outputs": [],
   "source": []
  }
 ],
 "metadata": {
  "kernelspec": {
   "display_name": "Python 3",
   "language": "python",
   "name": "python3"
  },
  "language_info": {
   "codemirror_mode": {
    "name": "ipython",
    "version": 3
   },
   "file_extension": ".py",
   "mimetype": "text/x-python",
   "name": "python",
   "nbconvert_exporter": "python",
   "pygments_lexer": "ipython3",
   "version": "3.8.5"
  }
 },
 "nbformat": 4,
 "nbformat_minor": 4
}
